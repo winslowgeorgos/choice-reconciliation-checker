{
 "cells": [
  {
   "cell_type": "code",
   "execution_count": 1,
   "id": "0dba4b83",
   "metadata": {},
   "outputs": [
    {
     "name": "stdout",
     "output_type": "stream",
     "text": [
      "Defaulting to user installation because normal site-packages is not writeable\n",
      "Requirement already satisfied: openpyxl in c:\\users\\user\\appdata\\roaming\\python\\python313\\site-packages (3.1.5)\n",
      "Requirement already satisfied: fuzzywuzzy in c:\\users\\user\\appdata\\roaming\\python\\python313\\site-packages (0.18.0)\n",
      "Collecting python-Levenshtein\n",
      "  Downloading python_levenshtein-0.27.1-py3-none-any.whl.metadata (3.7 kB)\n",
      "Requirement already satisfied: et-xmlfile in c:\\users\\user\\appdata\\roaming\\python\\python313\\site-packages (from openpyxl) (2.0.0)\n",
      "Collecting Levenshtein==0.27.1 (from python-Levenshtein)\n",
      "  Downloading levenshtein-0.27.1-cp313-cp313-win_amd64.whl.metadata (3.6 kB)\n",
      "Requirement already satisfied: rapidfuzz<4.0.0,>=3.9.0 in c:\\users\\user\\appdata\\roaming\\python\\python313\\site-packages (from Levenshtein==0.27.1->python-Levenshtein) (3.13.0)\n",
      "Downloading python_levenshtein-0.27.1-py3-none-any.whl (9.4 kB)\n",
      "Downloading levenshtein-0.27.1-cp313-cp313-win_amd64.whl (100 kB)\n",
      "Installing collected packages: Levenshtein, python-Levenshtein\n",
      "Successfully installed Levenshtein-0.27.1 python-Levenshtein-0.27.1\n"
     ]
    },
    {
     "name": "stderr",
     "output_type": "stream",
     "text": [
      "\n",
      "[notice] A new release of pip is available: 25.0.1 -> 25.1.1\n",
      "[notice] To update, run: python.exe -m pip install --upgrade pip\n"
     ]
    }
   ],
   "source": [
    "!pip install openpyxl fuzzywuzzy python-Levenshtein"
   ]
  },
  {
   "cell_type": "code",
   "execution_count": 2,
   "id": "38e1a51f",
   "metadata": {},
   "outputs": [],
   "source": [
    "\n",
    "import pandas as pd\n",
    "from datetime import datetime\n",
    "from fuzzywuzzy import fuzz, process\n",
    "import matplotlib.pyplot as plt\n",
    "import seaborn as sns\n",
    "import io\n",
    "import ipywidgets as widgets\n",
    "from IPython.display import display\n",
    "\n",
    "# 📊 Setup\n",
    "sns.set_theme(style=\"whitegrid\", palette=\"viridis\")\n",
    "plt.rcParams['figure.figsize'] = (10, 6)\n",
    "\n",
    "# 🛠 Helpers\n",
    "def safe_float(x):\n",
    "    try:\n",
    "        return float(str(x).replace(',', '').strip())\n",
    "    except:\n",
    "        return None\n",
    "\n",
    "def parse_date(date_str):\n",
    "    formats = ['%Y-%m-%d', '%d/%m/%Y', '%d.%m.%Y', '%Y/%m/%d']\n",
    "    for fmt in formats:\n",
    "        try:\n",
    "            return datetime.strptime(date_str.strip(), fmt)\n",
    "        except:\n",
    "            continue\n",
    "    return None\n",
    "\n",
    "def normalize_bank_key(name):\n",
    "    return name.strip().lower().replace('.csv', '').replace(' ', '_')\n"
   ]
  },
  {
   "cell_type": "code",
   "execution_count": 3,
   "id": "7920c1f6",
   "metadata": {},
   "outputs": [
    {
     "data": {
      "application/vnd.jupyter.widget-view+json": {
       "model_id": "ebc5fe240ba3471dbe53d04a52a6c933",
       "version_major": 2,
       "version_minor": 0
      },
      "text/plain": [
       "FileUpload(value=(), accept='.csv', description='📥 Upload Local Currency Adjustment CSV')"
      ]
     },
     "metadata": {},
     "output_type": "display_data"
    },
    {
     "data": {
      "application/vnd.jupyter.widget-view+json": {
       "model_id": "dcad6036711445d0b4fdcc9fd74497d7",
       "version_major": 2,
       "version_minor": 0
      },
      "text/plain": [
       "FileUpload(value=(), accept='.csv', description='🏦 Upload Bank Records (CSV)', multiple=True)"
      ]
     },
     "metadata": {},
     "output_type": "display_data"
    }
   ],
   "source": [
    "\n",
    "upload_adj = widgets.FileUpload(description=\"📥 Upload Local Currency Adjustment CSV\", accept='.csv')\n",
    "upload_banks = widgets.FileUpload(description=\"🏦 Upload Bank Records (CSV)\", multiple=True, accept='.csv')\n",
    "display(upload_adj, upload_banks)\n"
   ]
  },
  {
   "cell_type": "code",
   "execution_count": 4,
   "id": "d92c8d90",
   "metadata": {},
   "outputs": [],
   "source": [
    "\n",
    "bank_raw_files = {}\n",
    "bank_dfs = {}\n",
    "\n",
    "if upload_adj.value:\n",
    "    adj_key, adj_data = list(upload_adj.value.items())[0]\n",
    "    adjustment_df = pd.read_csv(io.BytesIO(adj_data['content']))\n",
    "    print(f\"✅ Loaded Adjustment file: {adj_key} ({adjustment_df.shape})\")\n",
    "\n",
    "if upload_banks.value:\n",
    "    for fname, meta in upload_banks.value.items():\n",
    "        df = pd.read_csv(io.BytesIO(meta['content']))\n",
    "        key = normalize_bank_key(fname)\n",
    "        bank_raw_files[key] = fname\n",
    "        bank_dfs[key] = df\n",
    "        print(f\"🏦 Loaded: {fname} as {key} ({df.shape})\")\n"
   ]
  },
  {
   "cell_type": "code",
   "execution_count": 5,
   "id": "8f339a01",
   "metadata": {},
   "outputs": [],
   "source": [
    "\n",
    "# Step 1: Prepare bank names for matching\n",
    "bank_keys = list(bank_dfs.keys())\n",
    "\n",
    "# Step 2: Match function\n",
    "def find_best_bank_match(name):\n",
    "    match, score = process.extractOne(name, bank_keys, scorer=fuzz.token_sort_ratio)\n",
    "    return match if score >= 85 else None\n"
   ]
  },
  {
   "cell_type": "code",
   "execution_count": 6,
   "id": "819f2f48",
   "metadata": {},
   "outputs": [
    {
     "ename": "NameError",
     "evalue": "name 'adjustment_df' is not defined",
     "output_type": "error",
     "traceback": [
      "\u001b[1;31m---------------------------------------------------------------------------\u001b[0m",
      "\u001b[1;31mNameError\u001b[0m                                 Traceback (most recent call last)",
      "Cell \u001b[1;32mIn[6], line 4\u001b[0m\n\u001b[0;32m      1\u001b[0m matched \u001b[38;5;241m=\u001b[39m []\n\u001b[0;32m      2\u001b[0m unmatched \u001b[38;5;241m=\u001b[39m []\n\u001b[1;32m----> 4\u001b[0m \u001b[38;5;28;01mfor\u001b[39;00m idx, row \u001b[38;5;129;01min\u001b[39;00m \u001b[43madjustment_df\u001b[49m\u001b[38;5;241m.\u001b[39miterrows():\n\u001b[0;32m      5\u001b[0m     status \u001b[38;5;241m=\u001b[39m \u001b[38;5;28mstr\u001b[39m(row\u001b[38;5;241m.\u001b[39mget(\u001b[38;5;124m'\u001b[39m\u001b[38;5;124mStatus\u001b[39m\u001b[38;5;124m'\u001b[39m, \u001b[38;5;124m'\u001b[39m\u001b[38;5;124m'\u001b[39m))\u001b[38;5;241m.\u001b[39mlower()\u001b[38;5;241m.\u001b[39mstrip()\n\u001b[0;32m      6\u001b[0m     \u001b[38;5;28;01mif\u001b[39;00m status \u001b[38;5;241m!=\u001b[39m \u001b[38;5;124m'\u001b[39m\u001b[38;5;124msuccessful\u001b[39m\u001b[38;5;124m'\u001b[39m:\n",
      "\u001b[1;31mNameError\u001b[0m: name 'adjustment_df' is not defined"
     ]
    }
   ],
   "source": [
    "\n",
    "matched = []\n",
    "unmatched = []\n",
    "\n",
    "for idx, row in adjustment_df.iterrows():\n",
    "    status = str(row.get('Status', '')).lower().strip()\n",
    "    if status != 'successful':\n",
    "        continue\n",
    "\n",
    "    intermed = str(row.get('Intermediary Account', '')).strip().lower()\n",
    "    date_raw = str(row.get('Completed At', '')).strip()\n",
    "    amount = safe_float(row.get('Amount'))\n",
    "    operation = str(row.get('Operation', '')).lower()\n",
    "\n",
    "    if operation not in ['credit', 'debit'] or not amount or not date_raw:\n",
    "        continue\n",
    "\n",
    "    parsed_date = parse_date(date_raw)\n",
    "    if not parsed_date:\n",
    "        continue\n",
    "\n",
    "    bank_key = find_best_bank_match(intermed)\n",
    "    if not bank_key or bank_key not in bank_dfs:\n",
    "        unmatched.append({**row, \"Reason\": \"Bank match not found\"})\n",
    "        continue\n",
    "\n",
    "    bank_df = bank_dfs[bank_key]\n",
    "    date_cols = [c for c in bank_df.columns if 'date' in c.lower()]\n",
    "    amt_cols = [c for c in bank_df.columns if operation in c.lower()]\n",
    "\n",
    "    found = False\n",
    "    for dc in date_cols:\n",
    "        for ac in amt_cols:\n",
    "            try:\n",
    "                bank_df[dc] = bank_df[dc].astype(str)\n",
    "                date_match = bank_df[dc].apply(lambda x: parsed_date.strftime('%d/%m/%Y') in x or parsed_date.strftime('%d.%m.%Y') in x)\n",
    "                amt_match = bank_df[ac].apply(lambda x: abs(safe_float(x) - amount) < 1)\n",
    "                match_df = bank_df[date_match & amt_match]\n",
    "                if not match_df.empty:\n",
    "                    matched.append({**row, \"Matched Table\": bank_key, \"Matched Column\": ac})\n",
    "                    found = True\n",
    "                    break\n",
    "            except:\n",
    "                continue\n",
    "        if found:\n",
    "            break\n",
    "    if not found:\n",
    "        unmatched.append({**row, \"Reason\": \"No match found in bank table\"})\n"
   ]
  },
  {
   "cell_type": "code",
   "execution_count": null,
   "id": "acecd60d",
   "metadata": {},
   "outputs": [],
   "source": [
    "\n",
    "matched_df = pd.DataFrame(matched)\n",
    "unmatched_df = pd.DataFrame(unmatched)\n",
    "\n",
    "print(\"✅ Total Matched:\", len(matched_df))\n",
    "print(\"❌ Total Unmatched:\", len(unmatched_df))\n",
    "\n",
    "sns.barplot(data=pd.DataFrame({\n",
    "    'Status': ['Matched', 'Unmatched'],\n",
    "    'Count': [len(matched_df), len(unmatched_df)]\n",
    "}), x='Status', y='Count')\n",
    "plt.title(\"Local Currency Adjustment Matching Summary\")\n",
    "plt.show()\n"
   ]
  }
 ],
 "metadata": {
  "kernelspec": {
   "display_name": "Python 3",
   "language": "python",
   "name": "python3"
  },
  "language_info": {
   "codemirror_mode": {
    "name": "ipython",
    "version": 3
   },
   "file_extension": ".py",
   "mimetype": "text/x-python",
   "name": "python",
   "nbconvert_exporter": "python",
   "pygments_lexer": "ipython3",
   "version": "3.13.1"
  }
 },
 "nbformat": 4,
 "nbformat_minor": 5
}
